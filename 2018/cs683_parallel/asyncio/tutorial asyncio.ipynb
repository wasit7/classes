{
 "cells": [
  {
   "cell_type": "code",
   "execution_count": 1,
   "metadata": {},
   "outputs": [
    {
     "name": "stdout",
     "output_type": "stream",
     "text": [
      "5 init\n",
      "5 after sleep 5s\n",
      "4 init\n",
      "4 after sleep 4s\n",
      "3 init\n",
      "3 after sleep 3s\n",
      "2 init\n",
      "2 after sleep 2s\n",
      "1 init\n",
      "1 after sleep 1s\n"
     ]
    }
   ],
   "source": [
    "import time\n",
    "def f(i):\n",
    "    print(f'{i} init')\n",
    "    time.sleep(i)\n",
    "    print(f'{i} after sleep {i}s')\n",
    "    return i\n",
    "\n",
    "def g():\n",
    "    for i in range(5,0,-1):\n",
    "        f(i)\n",
    "g()"
   ]
  },
  {
   "cell_type": "code",
   "execution_count": 11,
   "metadata": {},
   "outputs": [
    {
     "name": "stdout",
     "output_type": "stream",
     "text": [
      "**future\n",
      "**result\n",
      "4 init\n",
      "2 init\n",
      "5 init\n",
      "1 init\n",
      "3 init\n",
      "1 after sleep 1s\n",
      "\t\t\t>> results: [1]\n",
      "2 after sleep 2s\n",
      "\t\t\t>> results: [1, 2]\n",
      "3 after sleep 3s\n",
      "\t\t\t>> results: [1, 2, 3]\n",
      "4 after sleep 4s\n",
      "\t\t\t>> results: [1, 2, 3, 4]\n",
      "5 after sleep 5s\n",
      "\t\t\t>> results: [1, 2, 3, 4, 5]\n",
      "\n",
      "done results: [1, 2, 3, 4, 5]\n"
     ]
    }
   ],
   "source": [
    "import numpy as np\n",
    "import asyncio\n",
    "async def f(i):\n",
    "    print(f'{i} init')\n",
    "    await asyncio.sleep(i)\n",
    "    print(f'{i} after sleep {i}s')\n",
    "    return i\n",
    "\n",
    "async def g():\n",
    "    futures,results=[],[]\n",
    "    print('**future')\n",
    "    for i in range(5,0,-1):\n",
    "        futures.append( f(i))\n",
    "    print('**result')\n",
    "    for future in asyncio.as_completed(futures):\n",
    "        results.append(await  future)\n",
    "        print(\"\\t\\t\\t>> results:\",results)\n",
    "    print(\"\\ndone results:\",results)\n",
    "    return results\n",
    "    \n",
    "future = asyncio.Task(g())\n",
    "loop = asyncio.get_event_loop()\n",
    "try:\n",
    "    loop.run_until_complete(future)\n",
    "    loop.close()\n",
    "except Exception as e:\n",
    "    pass"
   ]
  },
  {
   "cell_type": "code",
   "execution_count": 9,
   "metadata": {},
   "outputs": [
    {
     "name": "stdout",
     "output_type": "stream",
     "text": [
      "**future\n",
      "**result\n",
      "4 init\n",
      "2 init\n",
      "3 init\n",
      "5 init\n",
      "1 init\n",
      "5 after sleep 1s\n",
      "1 after sleep 1s\n",
      "\t\t\t>> results: [5]\n",
      "\t\t\t>> results: [5, 1]\n",
      "4 after sleep 4s\n",
      "3 after sleep 4s\n",
      "\t\t\t>> results: [5, 1, 4]\n",
      "\t\t\t>> results: [5, 1, 4, 3]\n",
      "2 after sleep 6s\n",
      "\t\t\t>> results: [5, 1, 4, 3, 2]\n",
      "\n",
      "done results: [5, 1, 4, 3, 2]\n"
     ]
    }
   ],
   "source": [
    "import numpy as np\n",
    "import asyncio\n",
    "async def f(i):\n",
    "    print(f'{i} init')\n",
    "    x=np.random.randint(7)\n",
    "    await asyncio.sleep(x)\n",
    "    print(f'{i} after sleep {x}s')\n",
    "    return i\n",
    "\n",
    "async def g():\n",
    "    futures,results=[],[]\n",
    "    print('**future')\n",
    "    for i in range(5,0,-1):\n",
    "        futures.append( f(i))\n",
    "    print('**result')\n",
    "    for future in asyncio.as_completed(futures):\n",
    "        results.append(await  future)\n",
    "        print(\"\\t\\t\\t>> results:\",results)\n",
    "    print(\"\\ndone results:\",results)\n",
    "    return results\n",
    "    \n",
    "future = asyncio.Task(g())\n",
    "loop = asyncio.get_event_loop()\n",
    "try:\n",
    "    loop.run_until_complete(future)\n",
    "    loop.close()\n",
    "except Exception as e:\n",
    "    pass"
   ]
  },
  {
   "cell_type": "code",
   "execution_count": null,
   "metadata": {},
   "outputs": [],
   "source": []
  },
  {
   "cell_type": "code",
   "execution_count": null,
   "metadata": {},
   "outputs": [],
   "source": []
  }
 ],
 "metadata": {
  "kernelspec": {
   "display_name": "Python 3",
   "language": "python",
   "name": "python3"
  },
  "language_info": {
   "codemirror_mode": {
    "name": "ipython",
    "version": 3
   },
   "file_extension": ".py",
   "mimetype": "text/x-python",
   "name": "python",
   "nbconvert_exporter": "python",
   "pygments_lexer": "ipython3",
   "version": "3.6.6"
  }
 },
 "nbformat": 4,
 "nbformat_minor": 2
}

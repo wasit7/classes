{
 "cells": [
  {
   "cell_type": "code",
   "execution_count": 1,
   "metadata": {},
   "outputs": [],
   "source": [
    "import numpy as np"
   ]
  },
  {
   "cell_type": "code",
   "execution_count": 15,
   "metadata": {},
   "outputs": [],
   "source": [
    "a=np.random.randint(1,10,(8,16))\n",
    "b=np.random.randint(1,10,(16,4))\n",
    "c=np.matmul(a,b)"
   ]
  },
  {
   "cell_type": "code",
   "execution_count": 16,
   "metadata": {},
   "outputs": [],
   "source": [
    "np.savetxt('a.in', a, delimiter=' ', fmt='%d')\n",
    "np.savetxt('b.in', b, delimiter=' ', fmt='%d')\n",
    "np.savetxt('c.out', c, delimiter=' ', fmt='%d')"
   ]
  },
  {
   "cell_type": "code",
   "execution_count": 17,
   "metadata": {},
   "outputs": [
    {
     "name": "stdout",
     "output_type": "stream",
     "text": [
      "8 16\r\n",
      "16 4\r\n",
      "7 6 3 5 3 4 6 5 7 1 7 1 7 8 3 8\r\n",
      "5 3 3 3 3 6 2 2 7 3 2 7 6 7 1 9\r\n",
      "9 3 3 7 5 7 8 3 4 3 3 1 5 9 7 4\r\n",
      "2 9 5 8 8 9 8 1 1 6 8 5 5 6 9 4\r\n",
      "2 1 6 8 3 2 8 2 1 2 3 7 5 5 8 9\r\n",
      "9 2 6 6 3 1 7 7 9 4 8 6 2 6 9 3\r\n",
      "5 4 6 7 2 2 8 2 9 9 9 7 9 9 7 2\r\n",
      "7 4 9 7 9 6 1 8 6 2 7 4 7 3 4 5\r\n",
      "4 5 3 3\r\n",
      "4 2 7 1\r\n",
      "5 3 7 1\r\n",
      "3 4 3 2\r\n",
      "9 2 4 1\r\n",
      "6 7 6 8\r\n",
      "7 6 4 8\r\n",
      "1 2 4 4\r\n",
      "1 8 1 1\r\n",
      "9 6 3 3\r\n",
      "8 6 3 6\r\n",
      "5 9 2 8\r\n",
      "1 9 5 7\r\n",
      "7 9 4 2\r\n",
      "9 7 9 3\r\n",
      "6 7 9 3\r\n"
     ]
    }
   ],
   "source": [
    "!echo \"8 16\">ab.in\n",
    "!echo \"16 4\">>ab.in\n",
    "!cat a.in >>ab.in\n",
    "!cat b.in >>ab.in\n",
    "!cat ab.in"
   ]
  },
  {
   "cell_type": "code",
   "execution_count": 20,
   "metadata": {},
   "outputs": [],
   "source": [
    "a=np.random.randint(1,10,(1024,2048))\n",
    "b=np.random.randint(1,10,(2048,512))\n",
    "c=np.matmul(a,b)\n",
    "np.savetxt('a.in', a, delimiter=' ', fmt='%d')\n",
    "np.savetxt('b.in', b, delimiter=' ', fmt='%d')\n",
    "np.savetxt('c_large.out', c, delimiter=' ', fmt='%d')"
   ]
  },
  {
   "cell_type": "code",
   "execution_count": 21,
   "metadata": {},
   "outputs": [],
   "source": [
    "!echo \"1024 2048\">ab_large.in\n",
    "!echo \"2048 512\">>ab_large.in\n",
    "!cat a.in >>ab_large.in\n",
    "!cat b.in >>ab_large.in"
   ]
  },
  {
   "cell_type": "code",
   "execution_count": null,
   "metadata": {},
   "outputs": [],
   "source": []
  }
 ],
 "metadata": {
  "kernelspec": {
   "display_name": "Python 3",
   "language": "python",
   "name": "python3"
  },
  "language_info": {
   "codemirror_mode": {
    "name": "ipython",
    "version": 3
   },
   "file_extension": ".py",
   "mimetype": "text/x-python",
   "name": "python",
   "nbconvert_exporter": "python",
   "pygments_lexer": "ipython3",
   "version": "3.6.5"
  }
 },
 "nbformat": 4,
 "nbformat_minor": 2
}

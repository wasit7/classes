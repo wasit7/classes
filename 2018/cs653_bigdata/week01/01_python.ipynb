{
 "cells": [
  {
   "cell_type": "markdown",
   "metadata": {},
   "source": [
    "# Python Programming Language\t\n",
    "\n",
    "* Introduction to Python\n",
    "* Scripting language\n",
    "* Jupyter notebook"
   ]
  },
  {
   "cell_type": "markdown",
   "metadata": {},
   "source": [
    "## Installation\n",
    "\n",
    "``` sh\n",
    "    pip install jupyter\n",
    "    mkdir cs653_bigdata\n",
    "    jupyter notebok\n",
    "\n",
    "```"
   ]
  },
  {
   "cell_type": "markdown",
   "metadata": {},
   "source": [
    "# Data Types and Control Flow\t\n",
    "* data types and object\n",
    "* Boolean operation\n",
    "* if-else\n",
    "* function"
   ]
  },
  {
   "cell_type": "code",
   "execution_count": 5,
   "metadata": {},
   "outputs": [],
   "source": [
    "x=256"
   ]
  },
  {
   "cell_type": "code",
   "execution_count": 6,
   "metadata": {},
   "outputs": [
    {
     "data": {
      "text/plain": [
       "9"
      ]
     },
     "execution_count": 6,
     "metadata": {},
     "output_type": "execute_result"
    }
   ],
   "source": [
    "x.bit_length()"
   ]
  },
  {
   "cell_type": "code",
   "execution_count": 7,
   "metadata": {},
   "outputs": [
    {
     "data": {
      "text/plain": [
       "int"
      ]
     },
     "execution_count": 7,
     "metadata": {},
     "output_type": "execute_result"
    }
   ],
   "source": [
    "type(x)"
   ]
  },
  {
   "cell_type": "markdown",
   "metadata": {},
   "source": [
    "# bit-wise operators"
   ]
  },
  {
   "cell_type": "code",
   "execution_count": 19,
   "metadata": {},
   "outputs": [],
   "source": [
    "x=6 #0b0110"
   ]
  },
  {
   "cell_type": "code",
   "execution_count": 20,
   "metadata": {},
   "outputs": [],
   "source": [
    "y=3 #0b0011"
   ]
  },
  {
   "cell_type": "code",
   "execution_count": 23,
   "metadata": {},
   "outputs": [
    {
     "data": {
      "text/plain": [
       "2"
      ]
     },
     "execution_count": 23,
     "metadata": {},
     "output_type": "execute_result"
    }
   ],
   "source": [
    "x & y"
   ]
  },
  {
   "cell_type": "code",
   "execution_count": 24,
   "metadata": {},
   "outputs": [
    {
     "data": {
      "text/plain": [
       "7"
      ]
     },
     "execution_count": 24,
     "metadata": {},
     "output_type": "execute_result"
    }
   ],
   "source": [
    "x | y"
   ]
  },
  {
   "cell_type": "code",
   "execution_count": 25,
   "metadata": {},
   "outputs": [
    {
     "data": {
      "text/plain": [
       "5"
      ]
     },
     "execution_count": 25,
     "metadata": {},
     "output_type": "execute_result"
    }
   ],
   "source": [
    "x^y"
   ]
  },
  {
   "cell_type": "code",
   "execution_count": 34,
   "metadata": {},
   "outputs": [
    {
     "name": "stdout",
     "output_type": "stream",
     "text": [
      "8\n",
      "x is larger or equal than 5\n"
     ]
    }
   ],
   "source": [
    "x=int(input())\n",
    "if x < 5:\n",
    "    print('x is less than 5')\n",
    "else:\n",
    "    print('x is larger or equal than 5')"
   ]
  },
  {
   "cell_type": "code",
   "execution_count": 36,
   "metadata": {},
   "outputs": [
    {
     "name": "stdout",
     "output_type": "stream",
     "text": [
      "5\n",
      "x is not in range\n"
     ]
    }
   ],
   "source": [
    "# system gets input x from keyboard\n",
    "# system check whether x in between 3(inclusive) and 5(exclusive)\n",
    "x=int(input())\n",
    "if 3<=x and x<5:\n",
    "    print('x is in the range')\n",
    "else:\n",
    "    print('x is not in range')"
   ]
  },
  {
   "cell_type": "markdown",
   "metadata": {},
   "source": [
    "## Function"
   ]
  },
  {
   "cell_type": "code",
   "execution_count": 42,
   "metadata": {},
   "outputs": [
    {
     "data": {
      "text/plain": [
       "27"
      ]
     },
     "execution_count": 42,
     "metadata": {},
     "output_type": "execute_result"
    }
   ],
   "source": [
    "def f(x,y):\n",
    "    z=x**y\n",
    "    return z\n",
    "\n",
    "f(3,3)"
   ]
  },
  {
   "cell_type": "code",
   "execution_count": 44,
   "metadata": {},
   "outputs": [
    {
     "data": {
      "text/plain": [
       "27"
      ]
     },
     "execution_count": 44,
     "metadata": {},
     "output_type": "execute_result"
    }
   ],
   "source": [
    "g=f\n",
    "g(3,3)"
   ]
  },
  {
   "cell_type": "markdown",
   "metadata": {},
   "source": [
    "# container and for-loop\t\n",
    "\n",
    "* list, dict, tuple\n",
    "* string\n",
    "* for-loop"
   ]
  },
  {
   "cell_type": "code",
   "execution_count": 68,
   "metadata": {},
   "outputs": [
    {
     "data": {
      "text/plain": [
       "list"
      ]
     },
     "execution_count": 68,
     "metadata": {},
     "output_type": "execute_result"
    }
   ],
   "source": [
    "x=[]\n",
    "type(x)"
   ]
  },
  {
   "cell_type": "code",
   "execution_count": 69,
   "metadata": {},
   "outputs": [
    {
     "data": {
      "text/plain": [
       "[2]"
      ]
     },
     "execution_count": 69,
     "metadata": {},
     "output_type": "execute_result"
    }
   ],
   "source": [
    "x.append(2)\n",
    "x"
   ]
  },
  {
   "cell_type": "code",
   "execution_count": 70,
   "metadata": {},
   "outputs": [
    {
     "data": {
      "text/plain": [
       "[2, 'Hello']"
      ]
     },
     "execution_count": 70,
     "metadata": {},
     "output_type": "execute_result"
    }
   ],
   "source": [
    "x.append('Hello')\n",
    "x"
   ]
  },
  {
   "cell_type": "code",
   "execution_count": 71,
   "metadata": {},
   "outputs": [
    {
     "data": {
      "text/plain": [
       "[2, 'Hello', [5, 6, 7]]"
      ]
     },
     "execution_count": 71,
     "metadata": {},
     "output_type": "execute_result"
    }
   ],
   "source": [
    "x.append([5,6,7])\n",
    "x"
   ]
  },
  {
   "cell_type": "code",
   "execution_count": 72,
   "metadata": {},
   "outputs": [
    {
     "data": {
      "text/plain": [
       "[5, 6, 7]"
      ]
     },
     "execution_count": 72,
     "metadata": {},
     "output_type": "execute_result"
    }
   ],
   "source": [
    "x.pop()"
   ]
  },
  {
   "cell_type": "code",
   "execution_count": 73,
   "metadata": {},
   "outputs": [
    {
     "data": {
      "text/plain": [
       "'Hello'"
      ]
     },
     "execution_count": 73,
     "metadata": {},
     "output_type": "execute_result"
    }
   ],
   "source": [
    "x.pop()"
   ]
  },
  {
   "cell_type": "code",
   "execution_count": 74,
   "metadata": {},
   "outputs": [
    {
     "data": {
      "text/plain": [
       "2"
      ]
     },
     "execution_count": 74,
     "metadata": {},
     "output_type": "execute_result"
    }
   ],
   "source": [
    "x.pop()"
   ]
  },
  {
   "cell_type": "code",
   "execution_count": 75,
   "metadata": {},
   "outputs": [],
   "source": [
    "x=['a','b','c','d']"
   ]
  },
  {
   "cell_type": "code",
   "execution_count": 77,
   "metadata": {},
   "outputs": [],
   "source": [
    "x[1]='x'"
   ]
  },
  {
   "cell_type": "code",
   "execution_count": 78,
   "metadata": {},
   "outputs": [
    {
     "data": {
      "text/plain": [
       "['a', 'x', 'c', 'd']"
      ]
     },
     "execution_count": 78,
     "metadata": {},
     "output_type": "execute_result"
    }
   ],
   "source": [
    "x"
   ]
  },
  {
   "cell_type": "markdown",
   "metadata": {},
   "source": [
    "## Dictionary"
   ]
  },
  {
   "cell_type": "code",
   "execution_count": 90,
   "metadata": {},
   "outputs": [],
   "source": [
    "x={\n",
    "    'wasit':'224',\n",
    "    'pokpong':'225',\n",
    "    'matt':'227',\n",
    "}"
   ]
  },
  {
   "cell_type": "code",
   "execution_count": 91,
   "metadata": {},
   "outputs": [
    {
     "data": {
      "text/plain": [
       "'224'"
      ]
     },
     "execution_count": 91,
     "metadata": {},
     "output_type": "execute_result"
    }
   ],
   "source": [
    "x['wasit']"
   ]
  },
  {
   "cell_type": "code",
   "execution_count": 93,
   "metadata": {},
   "outputs": [
    {
     "data": {
      "text/plain": [
       "'not found'"
      ]
     },
     "execution_count": 93,
     "metadata": {},
     "output_type": "execute_result"
    }
   ],
   "source": [
    "x.get('einstein','not found')"
   ]
  },
  {
   "cell_type": "markdown",
   "metadata": {},
   "source": [
    "## for loop"
   ]
  },
  {
   "cell_type": "code",
   "execution_count": 87,
   "metadata": {},
   "outputs": [
    {
     "name": "stdout",
     "output_type": "stream",
     "text": [
      "4\n",
      "16\n",
      "36\n",
      "64\n"
     ]
    }
   ],
   "source": [
    "x=[2,4,6,8] #iterable vairable\n",
    "for i in x:\n",
    "    print(i**2)"
   ]
  },
  {
   "cell_type": "code",
   "execution_count": 88,
   "metadata": {},
   "outputs": [
    {
     "name": "stdout",
     "output_type": "stream",
     "text": [
      "1\n",
      "2\n",
      "3\n",
      "4\n"
     ]
    }
   ],
   "source": [
    "x=1\n",
    "while x<5:\n",
    "    print(x)\n",
    "    x+=1"
   ]
  },
  {
   "cell_type": "markdown",
   "metadata": {},
   "source": [
    "## wordcount"
   ]
  },
  {
   "cell_type": "code",
   "execution_count": 96,
   "metadata": {},
   "outputs": [
    {
     "data": {
      "text/plain": [
       "{'billy': 9,\n",
       " 'was': 13,\n",
       " 'getting': 1,\n",
       " 'excited.': 1,\n",
       " 'it': 8,\n",
       " 'the': 82,\n",
       " 'day': 2,\n",
       " 'of': 19,\n",
       " 'circus!': 2,\n",
       " 'loved': 1,\n",
       " 'circus': 4,\n",
       " '–': 8,\n",
       " 'all': 8,\n",
       " 'animals': 1,\n",
       " 'and': 36,\n",
       " 'people.': 2,\n",
       " 'so': 3,\n",
       " 'much': 3,\n",
       " 'fun!': 1,\n",
       " 'at': 5,\n",
       " 'eight': 1,\n",
       " 'o’clock': 1,\n",
       " 'his': 3,\n",
       " 'parents': 1,\n",
       " 'arrived': 2,\n",
       " 'huge': 5,\n",
       " 'red': 5,\n",
       " 'white': 1,\n",
       " 'striped': 1,\n",
       " 'tent': 4,\n",
       " 'called': 1,\n",
       " '‘big': 1,\n",
       " 'top’.': 1,\n",
       " 'ringmaster': 1,\n",
       " 'shouted': 3,\n",
       " 'with': 4,\n",
       " 'booming': 1,\n",
       " 'voice,': 1,\n",
       " '‘good': 1,\n",
       " 'evening,': 1,\n",
       " 'ladies': 1,\n",
       " 'gentlemen!’': 1,\n",
       " 'then': 5,\n",
       " 'lights': 1,\n",
       " 'went': 4,\n",
       " 'up': 2,\n",
       " 'to': 13,\n",
       " 'top': 2,\n",
       " 'saw': 4,\n",
       " 'a': 15,\n",
       " 'man': 2,\n",
       " 'woman': 1,\n",
       " 'dressed': 1,\n",
       " 'in': 13,\n",
       " 'sparkly': 1,\n",
       " 'clothes': 2,\n",
       " 'balancing': 1,\n",
       " 'on': 3,\n",
       " 'swing.': 1,\n",
       " 'they': 10,\n",
       " 'flew': 1,\n",
       " 'through': 1,\n",
       " 'air.': 1,\n",
       " '‘ooooo!’': 2,\n",
       " 'people': 8,\n",
       " 'every': 1,\n",
       " 'time': 3,\n",
       " 'flew.': 1,\n",
       " 'very,': 1,\n",
       " 'very': 3,\n",
       " 'exciting.': 1,\n",
       " 'door': 2,\n",
       " 'opened': 2,\n",
       " 'lions': 2,\n",
       " 'bounced': 1,\n",
       " 'into': 7,\n",
       " 'ring': 2,\n",
       " 'there': 5,\n",
       " 'were': 3,\n",
       " 'six': 1,\n",
       " 'them': 2,\n",
       " 'looking': 1,\n",
       " 'fierce': 1,\n",
       " 'dangerous.': 1,\n",
       " 'middle': 2,\n",
       " 'lion': 1,\n",
       " 'tamer.': 1,\n",
       " 'watched': 1,\n",
       " 'as': 3,\n",
       " 'he': 3,\n",
       " 'put': 2,\n",
       " 'head': 1,\n",
       " 'biggest': 1,\n",
       " 'lion’s': 1,\n",
       " 'mouth.': 1,\n",
       " 'horror': 1,\n",
       " 'amazement.': 1,\n",
       " 'after': 2,\n",
       " 'came': 2,\n",
       " 'clowns.': 1,\n",
       " 'wearing': 1,\n",
       " 'brightly': 1,\n",
       " 'coloured': 1,\n",
       " 'blue': 1,\n",
       " 'yellow': 1,\n",
       " 'spots': 1,\n",
       " 'green.': 1,\n",
       " 'had': 4,\n",
       " 'noses': 1,\n",
       " 'painted': 1,\n",
       " 'faces': 1,\n",
       " 'funny': 1,\n",
       " 'hair.': 1,\n",
       " 'fell': 1,\n",
       " 'over,': 1,\n",
       " 'told': 1,\n",
       " 'lots': 4,\n",
       " 'jokes': 1,\n",
       " 'did': 3,\n",
       " 'silly': 1,\n",
       " 'things.': 1,\n",
       " '‘ha,': 1,\n",
       " 'ha,': 1,\n",
       " 'ha!’': 1,\n",
       " 'laughed': 2,\n",
       " 'too.': 1,\n",
       " 'finally': 1,\n",
       " 'elephants': 2,\n",
       " '-': 1,\n",
       " 'three': 1,\n",
       " 'enormous': 1,\n",
       " 'grey': 1,\n",
       " 'one': 3,\n",
       " 'smaller': 1,\n",
       " 'one.': 1,\n",
       " 'small': 3,\n",
       " 'balanced': 1,\n",
       " 'leg': 1,\n",
       " 'tricks.': 1,\n",
       " 'stopped': 1,\n",
       " 'looked': 1,\n",
       " 'billy.': 2,\n",
       " '‘hello,’': 1,\n",
       " 'said': 2,\n",
       " 'elephant.': 4,\n",
       " '‘i’m': 2,\n",
       " 'billy.’': 1,\n",
       " 'minny,’': 1,\n",
       " 'replied': 1,\n",
       " 'elephant': 6,\n",
       " 'billy’s': 2,\n",
       " 'surprise.': 1,\n",
       " 'suddenly': 1,\n",
       " 'turned': 1,\n",
       " 'around': 3,\n",
       " 'ran': 4,\n",
       " 'towards': 2,\n",
       " 'tent.': 1,\n",
       " 'out': 7,\n",
       " 'street': 3,\n",
       " 'off': 1,\n",
       " 'town.': 1,\n",
       " 'rushed': 3,\n",
       " 'screaming,': 1,\n",
       " '‘aagh!': 1,\n",
       " 'it’s': 1,\n",
       " 'escaped!’': 2,\n",
       " '‘help!’': 2,\n",
       " 'cried': 3,\n",
       " 'ringmaster.': 1,\n",
       " '‘minny': 1,\n",
       " 'has': 1,\n",
       " 'minny': 13,\n",
       " 'happy': 2,\n",
       " 'first': 1,\n",
       " 'she': 14,\n",
       " 'been': 1,\n",
       " 'felt': 1,\n",
       " 'good': 1,\n",
       " 'be': 1,\n",
       " 'free!': 1,\n",
       " 'along': 2,\n",
       " 'main': 2,\n",
       " 'square.': 2,\n",
       " 'fountain': 2,\n",
       " 'climbed': 1,\n",
       " 'big': 4,\n",
       " 'sat': 1,\n",
       " 'down': 1,\n",
       " 'water': 4,\n",
       " 'tried': 1,\n",
       " 'walk': 1,\n",
       " 'by': 1,\n",
       " 'but': 2,\n",
       " 'sprayed': 2,\n",
       " 'using': 2,\n",
       " 'her': 3,\n",
       " 'trunk!': 1,\n",
       " '‘oh,': 1,\n",
       " 'this': 2,\n",
       " 'is': 1,\n",
       " 'more': 1,\n",
       " 'fun': 1,\n",
       " 'than': 1,\n",
       " 'circus!’': 1,\n",
       " 'minny.': 1,\n",
       " 'while': 1,\n",
       " 'decided': 2,\n",
       " 'explore.': 1,\n",
       " 'supermarket.': 1,\n",
       " 'who': 1,\n",
       " 'supermarket': 1,\n",
       " 'screaming!': 1,\n",
       " 'wonderful': 1,\n",
       " 'helped': 1,\n",
       " 'herself': 1,\n",
       " 'bananas': 1,\n",
       " 'scoffed': 1,\n",
       " 'large': 2,\n",
       " 'chocolate': 1,\n",
       " 'cake,': 1,\n",
       " 'ten': 1,\n",
       " 'packets': 1,\n",
       " 'biscuits': 1,\n",
       " 'number': 1,\n",
       " 'buns.': 1,\n",
       " 'when': 1,\n",
       " 'finished': 1,\n",
       " 'eating': 1,\n",
       " 'explore': 1,\n",
       " 'again': 1,\n",
       " 'street.': 1,\n",
       " 'distance': 1,\n",
       " 'house,': 1,\n",
       " 'something': 1,\n",
       " 'strange': 1,\n",
       " 'about': 1,\n",
       " 'light': 1,\n",
       " 'it.': 1,\n",
       " 'got': 1,\n",
       " 'nearer': 1,\n",
       " 'house': 6,\n",
       " 'heard': 1,\n",
       " 'shouting': 1,\n",
       " 'screaming.': 1,\n",
       " 'shouted.': 1,\n",
       " '‘save': 1,\n",
       " 'us!’': 1,\n",
       " 'garden': 1,\n",
       " 'opposite': 1,\n",
       " 'house.': 2,\n",
       " 'pond': 1,\n",
       " 'water.': 2,\n",
       " 'trunk': 1,\n",
       " 'took': 2,\n",
       " 'could.': 1,\n",
       " 'over': 1,\n",
       " 'many': 1,\n",
       " 'times': 1,\n",
       " 'flames': 1,\n",
       " 'fire': 1,\n",
       " 'died': 1,\n",
       " 'away.': 1,\n",
       " 'from': 2,\n",
       " 'window': 2,\n",
       " 'could': 1,\n",
       " 'see': 1,\n",
       " 'boy.': 1,\n",
       " 'him': 1,\n",
       " 'trunk.': 1,\n",
       " '‘minny!’': 1,\n",
       " 'cried.': 1,\n",
       " '‘it’s': 1,\n",
       " 'me!’': 2,\n",
       " '‘hello,': 1,\n",
       " 'billy,’': 1,\n",
       " '‘you': 2,\n",
       " 'saved': 1,\n",
       " 'are': 1,\n",
       " 'bravest': 1,\n",
       " 'world!’': 1,\n",
       " 'mother': 1,\n",
       " 'father': 1,\n",
       " 'rushing': 1,\n",
       " 'couldn’t': 1,\n",
       " 'believe': 1,\n",
       " 'what': 1,\n",
       " 'saw!': 1,\n",
       " 'safe': 2,\n",
       " 'their': 1,\n",
       " 'because': 1,\n",
       " 'an': 1,\n",
       " 'next': 1,\n",
       " 'town': 2,\n",
       " 'made': 1,\n",
       " 'crowd': 1,\n",
       " 'outside': 1,\n",
       " 'hall.': 1,\n",
       " 'gave': 1,\n",
       " 'special': 1,\n",
       " 'medal.': 1,\n",
       " 'rode': 1,\n",
       " 'square': 1,\n",
       " 'minny’s': 1,\n",
       " 'back,': 1,\n",
       " 'waving': 1,\n",
       " 'smiling': 1,\n",
       " 'slowly': 1,\n",
       " 'back': 1,\n",
       " 'rejoin': 1,\n",
       " 'other': 1,\n",
       " 'elephants.': 1,\n",
       " 'that': 1,\n",
       " 'never': 1,\n",
       " 'wanted': 1,\n",
       " 'escape': 1,\n",
       " 'again.': 1}"
      ]
     },
     "execution_count": 96,
     "metadata": {},
     "output_type": "execute_result"
    }
   ],
   "source": [
    "d={}\n",
    "with open('circus_escape.txt', 'r') as f:\n",
    "    x=f.read()\n",
    "    y=x.split()\n",
    "for i in y:\n",
    "    word=i.lower()\n",
    "    d[word]=d.get(word,0)+1\n",
    "d"
   ]
  },
  {
   "cell_type": "markdown",
   "metadata": {},
   "source": [
    "# Object Oriented Programming\t\n",
    "\n",
    "* class, constructor, built-in function\n",
    "* data member, function member\n",
    "* inheritance"
   ]
  },
  {
   "cell_type": "code",
   "execution_count": 124,
   "metadata": {},
   "outputs": [],
   "source": [
    "class Rectangle(object):\n",
    "    def __init__(self,w=0,h=0):\n",
    "        self.w=w\n",
    "        self.h=h\n",
    "    def __str__(self):\n",
    "        return 'Rectangle, w:%s, h:%s, area:%s'\\\n",
    "            %(self.w, self.h,self.area() )\n",
    "    def area(self):\n",
    "        return self.w*self.h\n",
    "\n",
    "class Square(Rectangle):\n",
    "    def __init__(self,w):\n",
    "        self.w=w\n",
    "        self.h=w"
   ]
  },
  {
   "cell_type": "code",
   "execution_count": 125,
   "metadata": {},
   "outputs": [],
   "source": [
    "x=Rectangle()"
   ]
  },
  {
   "cell_type": "code",
   "execution_count": 126,
   "metadata": {},
   "outputs": [
    {
     "name": "stdout",
     "output_type": "stream",
     "text": [
      "Rectangle, w:0, h:0, area:0\n"
     ]
    }
   ],
   "source": [
    "print(x)"
   ]
  },
  {
   "cell_type": "code",
   "execution_count": 127,
   "metadata": {},
   "outputs": [
    {
     "data": {
      "text/plain": [
       "0"
      ]
     },
     "execution_count": 127,
     "metadata": {},
     "output_type": "execute_result"
    }
   ],
   "source": [
    "x.area()"
   ]
  },
  {
   "cell_type": "code",
   "execution_count": null,
   "metadata": {},
   "outputs": [],
   "source": []
  }
 ],
 "metadata": {
  "kernelspec": {
   "display_name": "Python 3",
   "language": "python",
   "name": "python3"
  },
  "language_info": {
   "codemirror_mode": {
    "name": "ipython",
    "version": 3
   },
   "file_extension": ".py",
   "mimetype": "text/x-python",
   "name": "python",
   "nbconvert_exporter": "python",
   "pygments_lexer": "ipython3",
   "version": "3.6.6"
  }
 },
 "nbformat": 4,
 "nbformat_minor": 2
}

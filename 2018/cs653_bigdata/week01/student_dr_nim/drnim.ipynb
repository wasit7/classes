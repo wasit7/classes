{
 "cells": [
  {
   "cell_type": "markdown",
   "metadata": {},
   "source": [
    "# Doctor Nim Game\n",
    "    By Monchai  Parnkow  6109035193"
   ]
  },
  {
   "cell_type": "code",
   "execution_count": 1,
   "metadata": {},
   "outputs": [],
   "source": [
    "def Drnim (x):\n",
    "    elenmen=len(x)\n",
    "    if elenmen == 15 :\n",
    "        return 3\n",
    "    elif elenmen <=12 and elenmen >=9 :\n",
    "        xx= elenmen-8\n",
    "        \n",
    "    elif    elenmen <=8 and elenmen >=5 :\n",
    "        xx=elenmen -4\n",
    "    elif elenmen <=5 and elenmen >=1 :\n",
    "        xx= elenmen\n",
    "    return xx\n",
    "   "
   ]
  },
  {
   "cell_type": "code",
   "execution_count": 2,
   "metadata": {},
   "outputs": [],
   "source": [
    "def game (x,n):\n",
    "    \n",
    "    print(\"pop\",n,\" times\")\n",
    "    for i in range(n) :\n",
    "        m=x.pop()\n",
    "        print(\"del\",m)\n",
    "        if m==1:\n",
    "            print(\"You win \")\n",
    "    print(\"The Box has \",x)\n",
    "\n",
    "    return x"
   ]
  },
  {
   "cell_type": "code",
   "execution_count": 3,
   "metadata": {},
   "outputs": [
    {
     "name": "stdout",
     "output_type": "stream",
     "text": [
      "Dr.nim turn\n",
      "pop 3  times\n",
      "del 15\n",
      "del 14\n",
      "del 13\n",
      "The Box has  [1, 2, 3, 4, 5, 6, 7, 8, 9, 10, 11, 12]\n",
      "____________________________________________________\n",
      "You turn\n",
      "1\n",
      "pop 1  times\n",
      "del 12\n",
      "The Box has  [1, 2, 3, 4, 5, 6, 7, 8, 9, 10, 11]\n",
      "____________________________________________________\n",
      "Dr.nim turn\n",
      "pop 3  times\n",
      "del 11\n",
      "del 10\n",
      "del 9\n",
      "The Box has  [1, 2, 3, 4, 5, 6, 7, 8]\n",
      "____________________________________________________\n",
      "You turn\n",
      "3\n",
      "pop 3  times\n",
      "del 8\n",
      "del 7\n",
      "del 6\n",
      "The Box has  [1, 2, 3, 4, 5]\n",
      "____________________________________________________\n",
      "Dr.nim turn\n",
      "pop 1  times\n",
      "del 5\n",
      "The Box has  [1, 2, 3, 4]\n",
      "____________________________________________________\n",
      "You turn\n",
      "1\n",
      "pop 1  times\n",
      "del 4\n",
      "The Box has  [1, 2, 3]\n",
      "____________________________________________________\n",
      "Dr.nim turn\n",
      "pop 3  times\n",
      "del 3\n",
      "del 2\n",
      "del 1\n",
      "You win \n",
      "The Box has  []\n"
     ]
    }
   ],
   "source": [
    "Box =[1,2,3,4,5,6,7,8,9,10,11,12,13,14,15]\n",
    "while True:\n",
    "    if len(Box)== 0:\n",
    "        break\n",
    "    print(\"Dr.nim turn\")\n",
    "    Box = game(Box,Drnim(Box))\n",
    "    if len(Box)==0:\n",
    "        break\n",
    "    print(\"____________________________________________________\")\n",
    "    print(\"You turn\")\n",
    "    x=int(input())\n",
    "    Box = game(Box,x)\n",
    "    print(\"____________________________________________________\")\n",
    "    "
   ]
  },
  {
   "cell_type": "code",
   "execution_count": 5,
   "metadata": {},
   "outputs": [
    {
     "data": {
      "text/plain": [
       "0"
      ]
     },
     "execution_count": 5,
     "metadata": {},
     "output_type": "execute_result"
    }
   ],
   "source": [
    "len(Box)"
   ]
  },
  {
   "cell_type": "code",
   "execution_count": null,
   "metadata": {},
   "outputs": [],
   "source": []
  },
  {
   "cell_type": "code",
   "execution_count": null,
   "metadata": {},
   "outputs": [],
   "source": []
  }
 ],
 "metadata": {
  "kernelspec": {
   "display_name": "Python 3",
   "language": "python",
   "name": "python3"
  },
  "language_info": {
   "codemirror_mode": {
    "name": "ipython",
    "version": 3
   },
   "file_extension": ".py",
   "mimetype": "text/x-python",
   "name": "python",
   "nbconvert_exporter": "python",
   "pygments_lexer": "ipython3",
   "version": "3.6.6"
  }
 },
 "nbformat": 4,
 "nbformat_minor": 2
}

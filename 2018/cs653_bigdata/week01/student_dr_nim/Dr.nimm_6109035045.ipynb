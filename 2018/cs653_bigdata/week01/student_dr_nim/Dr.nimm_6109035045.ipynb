{
 "cells": [
  {
   "cell_type": "code",
   "execution_count": 1,
   "metadata": {},
   "outputs": [],
   "source": [
    "import random"
   ]
  },
  {
   "cell_type": "code",
   "execution_count": 2,
   "metadata": {},
   "outputs": [],
   "source": [
    "def dr_nim(remain):\n",
    "    k = 3+1\n",
    "    if((remain-1)%k==0):\n",
    "        return random.randint(1,k-1)\n",
    "    return (remain-1)%k"
   ]
  },
  {
   "cell_type": "code",
   "execution_count": 3,
   "metadata": {},
   "outputs": [],
   "source": [
    "def user(remain):\n",
    "    n = int(input())\n",
    "    return n    "
   ]
  },
  {
   "cell_type": "code",
   "execution_count": null,
   "metadata": {},
   "outputs": [
    {
     "name": "stdout",
     "output_type": "stream",
     "text": [
      "Remain:  15\n",
      "Dr.nim get :  2\n",
      "\n",
      "Remain:  13\n",
      "Player get : "
     ]
    }
   ],
   "source": [
    "x = 15\n",
    "turn = 1\n",
    "while(x>0):\n",
    "    print('Remain: ',x)\n",
    "    #dr.nim turn\n",
    "    if(turn%2==1):\n",
    "        n = dr_nim(x)\n",
    "        print('Dr.nim get : ',n)\n",
    "    else:\n",
    "        print('Player get : ',end='')\n",
    "        n = user(x)\n",
    "    print()\n",
    "    x = x-n\n",
    "    turn += 1\n",
    "if(turn%2==1):\n",
    "    print('Dr.nim win!!')\n",
    "else:\n",
    "    print(\"Player win!!\")\n",
    "        "
   ]
  },
  {
   "cell_type": "code",
   "execution_count": null,
   "metadata": {},
   "outputs": [],
   "source": []
  }
 ],
 "metadata": {
  "kernelspec": {
   "display_name": "Python 3",
   "language": "python",
   "name": "python3"
  },
  "language_info": {
   "codemirror_mode": {
    "name": "ipython",
    "version": 3
   },
   "file_extension": ".py",
   "mimetype": "text/x-python",
   "name": "python",
   "nbconvert_exporter": "python",
   "pygments_lexer": "ipython3",
   "version": "3.6.6"
  }
 },
 "nbformat": 4,
 "nbformat_minor": 2
}

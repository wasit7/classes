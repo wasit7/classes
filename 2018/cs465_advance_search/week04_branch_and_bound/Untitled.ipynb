{
 "cells": [
  {
   "cell_type": "code",
   "execution_count": 31,
   "metadata": {},
   "outputs": [],
   "source": [
    "items=[\n",
    "        ['a',{'w':2,'v':40}],\n",
    "        ['b',{'w':3.14,'v':50}],\n",
    "        ['c',{'w':1.98,'v':100}],\n",
    "        ['d',{'w':5,'v':95}],\n",
    "        ['e',{'w':3,'v':30}],\n",
    "    ]"
   ]
  },
  {
   "cell_type": "code",
   "execution_count": 34,
   "metadata": {},
   "outputs": [],
   "source": [
    "import copy\n",
    "def knapsack(_items):\n",
    "    if len(_items)==0: return 0\n",
    "    i=_items.pop()\n",
    "    print(i[0])\n",
    "    left=copy.deepcopy(_items)\n",
    "    right=copy.deepcopy(_items)\n",
    "    return max(\n",
    "        i[1]['v']+knapsack(left),\n",
    "        knapsack(right)\n",
    "    )"
   ]
  },
  {
   "cell_type": "code",
   "execution_count": 35,
   "metadata": {},
   "outputs": [
    {
     "name": "stdout",
     "output_type": "stream",
     "text": [
      "e\n",
      "d\n",
      "c\n",
      "b\n",
      "a\n",
      "a\n",
      "b\n",
      "a\n",
      "a\n",
      "c\n",
      "b\n",
      "a\n",
      "a\n",
      "b\n",
      "a\n",
      "a\n",
      "d\n",
      "c\n",
      "b\n",
      "a\n",
      "a\n",
      "b\n",
      "a\n",
      "a\n",
      "c\n",
      "b\n",
      "a\n",
      "a\n",
      "b\n",
      "a\n",
      "a\n"
     ]
    },
    {
     "data": {
      "text/plain": [
       "315"
      ]
     },
     "execution_count": 35,
     "metadata": {},
     "output_type": "execute_result"
    }
   ],
   "source": [
    "knapsack(copy.deepcopy(items))"
   ]
  },
  {
   "cell_type": "code",
   "execution_count": null,
   "metadata": {},
   "outputs": [],
   "source": []
  },
  {
   "cell_type": "code",
   "execution_count": null,
   "metadata": {},
   "outputs": [],
   "source": []
  }
 ],
 "metadata": {
  "kernelspec": {
   "display_name": "Python 3",
   "language": "python",
   "name": "python3"
  },
  "language_info": {
   "codemirror_mode": {
    "name": "ipython",
    "version": 3
   },
   "file_extension": ".py",
   "mimetype": "text/x-python",
   "name": "python",
   "nbconvert_exporter": "python",
   "pygments_lexer": "ipython3",
   "version": "3.6.5"
  }
 },
 "nbformat": 4,
 "nbformat_minor": 2
}

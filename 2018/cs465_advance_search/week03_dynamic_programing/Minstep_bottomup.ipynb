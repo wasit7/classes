{
 "cells": [
  {
   "cell_type": "code",
   "execution_count": 10,
   "metadata": {},
   "outputs": [],
   "source": [
    "m={1:0}\n",
    "for i in range(2,10000001,1):\n",
    "    mins=m[i-1]+1\n",
    "    if i%2==0:\n",
    "        new_mins=m[i//2]+1\n",
    "        if new_mins<mins:\n",
    "            mins=new_mins\n",
    "    if i%3==0:\n",
    "        new_mins=m[i//3]+1\n",
    "        if new_mins<mins:\n",
    "            mins=new_mins\n",
    "    m[i]=mins"
   ]
  },
  {
   "cell_type": "code",
   "execution_count": 20,
   "metadata": {},
   "outputs": [
    {
     "data": {
      "text/plain": [
       "18"
      ]
     },
     "execution_count": 20,
     "metadata": {},
     "output_type": "execute_result"
    }
   ],
   "source": [
    "m[456678]"
   ]
  },
  {
   "cell_type": "code",
   "execution_count": 18,
   "metadata": {},
   "outputs": [
    {
     "ename": "AttributeError",
     "evalue": "'dict' object has no attribute 'minstep'",
     "output_type": "error",
     "traceback": [
      "\u001b[0;31m---------------------------------------------------------------------------\u001b[0m",
      "\u001b[0;31mAttributeError\u001b[0m                            Traceback (most recent call last)",
      "\u001b[0;32m<ipython-input-18-0eeb1fff8b60>\u001b[0m in \u001b[0;36m<module>\u001b[0;34m()\u001b[0m\n\u001b[1;32m      7\u001b[0m }\n\u001b[1;32m      8\u001b[0m \u001b[0;32mfor\u001b[0m \u001b[0mi\u001b[0m \u001b[0;32min\u001b[0m \u001b[0mrange\u001b[0m\u001b[0;34m(\u001b[0m\u001b[0;36m2\u001b[0m\u001b[0;34m,\u001b[0m\u001b[0;36m1000001\u001b[0m\u001b[0;34m,\u001b[0m\u001b[0;36m1\u001b[0m\u001b[0;34m)\u001b[0m\u001b[0;34m:\u001b[0m\u001b[0;34m\u001b[0m\u001b[0m\n\u001b[0;32m----> 9\u001b[0;31m     \u001b[0mmins\u001b[0m\u001b[0;34m=\u001b[0m\u001b[0mm\u001b[0m\u001b[0;34m[\u001b[0m\u001b[0mi\u001b[0m\u001b[0;34m-\u001b[0m\u001b[0;36m1\u001b[0m\u001b[0;34m]\u001b[0m\u001b[0;34m.\u001b[0m\u001b[0mminstep\u001b[0m\u001b[0;34m+\u001b[0m\u001b[0;36m1\u001b[0m\u001b[0;34m\u001b[0m\u001b[0m\n\u001b[0m\u001b[1;32m     10\u001b[0m     \u001b[0mop\u001b[0m\u001b[0;34m=\u001b[0m\u001b[0;34m'-1'\u001b[0m\u001b[0;34m\u001b[0m\u001b[0m\n\u001b[1;32m     11\u001b[0m     \u001b[0mtarget\u001b[0m\u001b[0;34m=\u001b[0m\u001b[0mi\u001b[0m\u001b[0;34m-\u001b[0m\u001b[0;36m1\u001b[0m\u001b[0;34m\u001b[0m\u001b[0m\n",
      "\u001b[0;31mAttributeError\u001b[0m: 'dict' object has no attribute 'minstep'"
     ]
    }
   ],
   "source": [
    "m={\n",
    "    1:{\n",
    "        'minstep': 0,\n",
    "        'operation': 'None',\n",
    "        'target': 'None'\n",
    "    }\n",
    "}\n",
    "for i in range(2,1000001,1):\n",
    "    mins=m[i-1].minstep+1\n",
    "    op='-1'\n",
    "    target=i-1\n",
    "    if i%2==0:\n",
    "        new_mins=m[i//2].minstep+1\n",
    "        if new_mins<mins:\n",
    "            mins=new_mins\n",
    "            op='//2'\n",
    "            target=i//2\n",
    "    if i%3==0:\n",
    "        new_mins=m[i//3].minstep+1\n",
    "        if new_mins<mins:\n",
    "            mins=new_mins\n",
    "            op='//3'\n",
    "            target=i//3\n",
    "    m[i].minstep=mins\n",
    "    m[i].operation=op\n",
    "    m[i].target=target"
   ]
  },
  {
   "cell_type": "code",
   "execution_count": null,
   "metadata": {},
   "outputs": [],
   "source": []
  }
 ],
 "metadata": {
  "kernelspec": {
   "display_name": "Python 3",
   "language": "python",
   "name": "python3"
  },
  "language_info": {
   "codemirror_mode": {
    "name": "ipython",
    "version": 3
   },
   "file_extension": ".py",
   "mimetype": "text/x-python",
   "name": "python",
   "nbconvert_exporter": "python",
   "pygments_lexer": "ipython3",
   "version": "3.6.5"
  }
 },
 "nbformat": 4,
 "nbformat_minor": 2
}

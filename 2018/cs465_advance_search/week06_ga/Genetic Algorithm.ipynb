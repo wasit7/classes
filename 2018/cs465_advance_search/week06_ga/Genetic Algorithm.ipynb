{
 "cells": [
  {
   "cell_type": "markdown",
   "metadata": {},
   "source": [
    "# Genetic Algorithm\n",
    "```\n",
    "Generate the initial population\n",
    "Compute fitness\n",
    "REPEAT\n",
    "    Selection\n",
    "    Crossover\n",
    "    Mutation\n",
    "    Compute fitness\n",
    "UNTIL population has converged\n",
    "```\n"
   ]
  },
  {
   "cell_type": "markdown",
   "metadata": {},
   "source": [
    "radious [cm]: $r$\n",
    "\n",
    "height [cm]: $h$ \n",
    "\n",
    "area [cm2]: $2\\pi r^2 +2\\pi r h$\n",
    "\n",
    "volume [cm3]: $\\pi r^2 h$\n",
    "\n",
    "cost [thb]: $c.area$\n",
    "\n",
    "$f=\\frac {1} {cost+(100 - volume)^2}$"
   ]
  },
  {
   "cell_type": "code",
   "execution_count": 1,
   "metadata": {},
   "outputs": [],
   "source": [
    "import numpy as np\n",
    "def fitness(r,h):\n",
    "    area=2*np.pi*r**2 + 2*np.pi*r*h\n",
    "    cost=1*area\n",
    "    volume = np.pi*r**2*h\n",
    "    return 1/(cost+(100-volume)**2)\n",
    "def bit_cross(a,b,width=8):\n",
    "    n=np.random.randint(0,8)\n",
    "    #print('bit_cross: %s'%n)\n",
    "    m=255>>n\n",
    "    c= m&a | ~m&b\n",
    "    d= ~m&a | m&b\n",
    "    return (c,d)\n"
   ]
  },
  {
   "cell_type": "code",
   "execution_count": 2,
   "metadata": {},
   "outputs": [],
   "source": [
    "import copy\n",
    "class Can(object):\n",
    "    def __init__(self,r=0,h=0):\n",
    "        if r==0 and h==0:\n",
    "            self.r=np.random.randint(1,100)\n",
    "            self.h=np.random.randint(1,100)\n",
    "        else: \n",
    "            self.r=r\n",
    "            self.h=h\n",
    "    def fitness(self):\n",
    "        area=2*np.pi*self.r**2 + 2*np.pi*self.r*self.h\n",
    "        cost=1*area\n",
    "        volume = np.pi*self.r**2*self.h\n",
    "        return 1/(cost+(100-volume)**2)\n",
    "    def __str__(self):\n",
    "        return \"r:%s h:%s fitness:%.2e\"%(np.binary_repr(self.r,8), np.binary_repr(self.h,8), self.fitness())\n",
    "    def __gt__(self, other):\n",
    "        return self.fitness() > other.fitness()\n",
    "    def __lt__(self, other):\n",
    "        return self.fitness() < other.fitness()\n",
    "    def mutate(self):\n",
    "        if np.random.randint(0,100)<10:\n",
    "            self.h= np.random.randint(0,255) ^ self.h\n",
    "            self.r= np.random.randint(0,255) ^ self.r\n",
    "    def cross_over(self, other):\n",
    "        self.r,other.r=bit_cross(self.r,other.r)\n",
    "        self.h,other.h=bit_cross(self.h,other.h)\n",
    "        return (copy.deepcopy(self), copy.deepcopy(other))"
   ]
  },
  {
   "cell_type": "code",
   "execution_count": 14,
   "metadata": {},
   "outputs": [
    {
     "name": "stdout",
     "output_type": "stream",
     "text": [
      "000: r:00000001 h:00110000 fitness:3.46e-04\n",
      "001: r:00000010 h:00010000 fitness:9.58e-05\n",
      "002: r:00000010 h:00001000 fitness:7.94e-03\n",
      "003: r:00000010 h:00001000 fitness:7.94e-03\n",
      "004: r:00000010 h:00001000 fitness:7.94e-03\n",
      "005: r:00000010 h:00001000 fitness:7.94e-03\n",
      "006: r:00000010 h:00001000 fitness:7.94e-03\n",
      "007: r:00000010 h:00001000 fitness:7.94e-03\n",
      "008: r:00000010 h:00001000 fitness:7.94e-03\n",
      "009: r:00000010 h:00001000 fitness:7.94e-03\n"
     ]
    }
   ],
   "source": [
    "cans=[]\n",
    "pop=100 #number of population\n",
    "keep=10 #keep top 10 of population\n",
    "loop=10\n",
    "#generate population\n",
    "for p in range(pop):\n",
    "    cans.append(Can(0,0))\n",
    "\n",
    "#main loop\n",
    "for i in range(loop):\n",
    "    cans.sort(reverse=True)\n",
    "    print('%03d: %s'%(i,cans[0]))\n",
    "    new_cans=[]\n",
    "    for p in range(keep):\n",
    "        new_cans.append(cans[p])\n",
    "    for p in range(keep,pop):\n",
    "        q=np.random.randint(2,pop)\n",
    "        j,k=np.random.permutation(q)[:2]\n",
    "        c,d=cans[j].cross_over(cans[k])\n",
    "        c.mutate()\n",
    "        new_cans.append(c)\n",
    "    cans=copy.deepcopy(new_cans)\n",
    "\n"
   ]
  },
  {
   "cell_type": "code",
   "execution_count": null,
   "metadata": {},
   "outputs": [],
   "source": []
  }
 ],
 "metadata": {
  "kernelspec": {
   "display_name": "Python 3",
   "language": "python",
   "name": "python3"
  },
  "language_info": {
   "codemirror_mode": {
    "name": "ipython",
    "version": 3
   },
   "file_extension": ".py",
   "mimetype": "text/x-python",
   "name": "python",
   "nbconvert_exporter": "python",
   "pygments_lexer": "ipython3",
   "version": "3.6.5"
  }
 },
 "nbformat": 4,
 "nbformat_minor": 2
}

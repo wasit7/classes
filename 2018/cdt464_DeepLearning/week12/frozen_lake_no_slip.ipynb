{
 "cells": [
  {
   "cell_type": "code",
   "execution_count": 1,
   "metadata": {},
   "outputs": [],
   "source": [
    "import gym\n",
    "LEFT = 0\n",
    "DOWN = 1\n",
    "RIGHT = 2\n",
    "UP = 3"
   ]
  },
  {
   "cell_type": "code",
   "execution_count": 2,
   "metadata": {},
   "outputs": [
    {
     "name": "stderr",
     "output_type": "stream",
     "text": [
      "/home/wasit/gitlab/classes/2018/cdt464_DeepLearning/env/lib/python3.6/site-packages/gym/envs/registration.py:14: PkgResourcesDeprecationWarning: Parameters to load are deprecated.  Call .resolve and .require separately.\n",
      "  result = entry_point.load(False)\n"
     ]
    }
   ],
   "source": [
    "from gym.envs.registration import register\n",
    "register(\n",
    "    id='FrozenLakeNotSlippery-v0',\n",
    "    entry_point='gym.envs.toy_text:FrozenLakeEnv',\n",
    "    kwargs={'map_name' : '4x4', 'is_slippery': False},\n",
    "    max_episode_steps=100,\n",
    "    reward_threshold=0.78, # optimum = .8196\n",
    ")\n",
    "\n",
    "env = gym.make('FrozenLakeNotSlippery-v0')\n",
    "# env=gym.make('FrozenLake-v0')"
   ]
  },
  {
   "cell_type": "code",
   "execution_count": 3,
   "metadata": {},
   "outputs": [],
   "source": [
    "def human_action():\n",
    "    key={\n",
    "        'a':LEFT,\n",
    "        's':DOWN,\n",
    "        'd':RIGHT,\n",
    "        'w':UP\n",
    "    }\n",
    "    action=key[input()]\n",
    "    return action"
   ]
  },
  {
   "cell_type": "code",
   "execution_count": 4,
   "metadata": {},
   "outputs": [],
   "source": [
    "import numpy as np\n",
    "policy=[\n",
    "    [0.0, 0.6, 0.5, 0.0], #s0\n",
    "    [0.0, 0.6, 0.5, 0.0], #s1\n",
    "    [0.0, 0.6, 0.5, 0.0], #s2\n",
    "    [0.0, 0.6, 0.5, 0.0], #s3\n",
    "    [0.0, 0.6, 0.5, 0.0], #s4\n",
    "    [0.0, 0.6, 0.5, 0.0], #s5\n",
    "    [0.0, 0.6, 0.5, 0.0], #s6\n",
    "    [0.0, 0.6, 0.5, 0.0], #s7\n",
    "    [0.0, 0.0, 0.5, 0.0], #s8  go right\n",
    "    [0.0, 0.0, 0.5, 0.0], #s9  go right\n",
    "    [0.0, 0.6, 0.5, 0.0], #s10\n",
    "    [0.0, 0.6, 0.5, 0.0], #s11\n",
    "    [0.0, 0.6, 0.5, 0.0], #s12\n",
    "    [0.0, 0.6, 0.5, 0.0], #s13\n",
    "    [0.0, 0.0, 0.5, 0.0], #s14 go right\n",
    "    [0.0, 0.6, 0.5, 0.0], #s15\n",
    "]\n",
    "Q=np.array(policy)\n",
    "\n",
    "def generate_intellegence_action(s):\n",
    "    action=np.argmax( Q[s,:])\n",
    "    return action"
   ]
  },
  {
   "cell_type": "code",
   "execution_count": 5,
   "metadata": {
    "scrolled": true
   },
   "outputs": [
    {
     "name": "stdout",
     "output_type": "stream",
     "text": [
      "\n",
      "\u001b[41mS\u001b[0mFFF\n",
      "FHFH\n",
      "FFFH\n",
      "HFFG\n",
      "state:0\n",
      "  (Down)\n",
      "SFFF\n",
      "\u001b[41mF\u001b[0mHFH\n",
      "FFFH\n",
      "HFFG\n",
      "state:4\n",
      "  (Down)\n",
      "SFFF\n",
      "FHFH\n",
      "\u001b[41mF\u001b[0mFFH\n",
      "HFFG\n",
      "state:8\n",
      "  (Right)\n",
      "SFFF\n",
      "FHFH\n",
      "F\u001b[41mF\u001b[0mFH\n",
      "HFFG\n",
      "state:9\n",
      "  (Right)\n",
      "SFFF\n",
      "FHFH\n",
      "FF\u001b[41mF\u001b[0mH\n",
      "HFFG\n",
      "state:10\n",
      "  (Down)\n",
      "SFFF\n",
      "FHFH\n",
      "FFFH\n",
      "HF\u001b[41mF\u001b[0mG\n",
      "state:14\n",
      "  (Right)\n",
      "SFFF\n",
      "FHFH\n",
      "FFFH\n",
      "HFF\u001b[41mG\u001b[0m\n",
      "---Done\n"
     ]
    }
   ],
   "source": [
    "#FrozenLake\n",
    "state=env.reset()\n",
    "done=False\n",
    "while not done:\n",
    "    env.render()\n",
    "    print(f\"state:{state}\")\n",
    "    a=generate_intellegent_action(state)\n",
    "    state,reward,done,_=env.step(a)\n",
    "env.render()\n",
    "print('---Done')"
   ]
  }
 ],
 "metadata": {
  "kernelspec": {
   "display_name": "Python 3",
   "language": "python",
   "name": "python3"
  },
  "language_info": {
   "codemirror_mode": {
    "name": "ipython",
    "version": 3
   },
   "file_extension": ".py",
   "mimetype": "text/x-python",
   "name": "python",
   "nbconvert_exporter": "python",
   "pygments_lexer": "ipython3",
   "version": "3.6.6"
  }
 },
 "nbformat": 4,
 "nbformat_minor": 2
}

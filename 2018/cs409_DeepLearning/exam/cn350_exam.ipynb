{
 "cells": [
  {
   "cell_type": "markdown",
   "metadata": {},
   "source": [
    "ข้อมูลเพิ่มเติม Gradient Descent (GD)\n",
    "\\begin{eqnarray}\n",
    "x_{i+1}&=&x_{i} - \\eta \\frac{\\partial F}{\\partial x} \\nonumber\\\\\n",
    "x_{i+1} - x_{i}&=& -\\eta \\frac{\\partial F}{\\partial x} \\nonumber\\\\\n",
    "\\Delta x &=& -\\eta \\frac{\\partial F}{\\partial x} \\nonumber\n",
    "\\end{eqnarray}"
   ]
  },
  {
   "cell_type": "markdown",
   "metadata": {},
   "source": [
    "# Single perceptron [10]\n",
    "จากข้อกำหนดด้านล่างสามารถใช้ GD ในการปรับค่า $w_0$ และ $b_0$ เพื่อลดค่า $E$ โดย $\\ast$ คือ element-wise multiplication\n",
    "\\begin{eqnarray}\n",
    "    g(h)&=&\\frac{1}{1+e^{-h}}\\nonumber\\\\\n",
    "       E&=&\\frac{1}{2}(y_p - y_t)^2\\nonumber\\\\\n",
    "       y_p&=&g(x.w_0 + b_0)\\nonumber\\\\\n",
    "       dz &=& (y_p -y_t)\\ast(1-y_p)\\ast y_p\\nonumber\n",
    "\\end{eqnarray}\n",
    "\n",
    "1.1 กำหนดให้การปรับค่าโดยใช้ GD เป็น $\\Delta w_0=\\eta \\frac{\\partial E}{\\partial w_0}$ จงแสดงว่า $\\Delta w_0 = -\\eta x^T dz$\n",
    "\n",
    "1.2 กำหนดให้การปรับค่าโดยใช้ GD เป็น $\\Delta b_0=\\eta \\frac{\\partial E}{\\partial b_0}$ จงแสดงว่า $\\Delta b_0 = -\\eta dz$"
   ]
  },
  {
   "cell_type": "markdown",
   "metadata": {
    "collapsed": true
   },
   "source": [
    "# MultiLayer Perceptron [10]\n",
    "เราสามารถใช้ GD ในการปรับค่าพารามิเตอร์ใน neural network แบบ Two Layer Perceptron เพื่อลดค่า $E$ จากข้อกำหนดด้านล่าง \n",
    "\\begin{eqnarray}\n",
    "    g(h)&=&\\frac{1}{1+e^{-h}}\\nonumber\\\\\n",
    "    E&=&\\frac{1}{2}(y_p - y_t)^2\\nonumber\\\\\n",
    "\\end{eqnarray}\n",
    "กำหนดข้อมูลนำเข้าและข้อมูลส่งออก\n",
    "\\begin{eqnarray}    \n",
    "    a_0 &\\Leftarrow &x\\nonumber\\\\\n",
    "    y_p& \\Leftarrow &a_2\\nonumber\\\\\n",
    "\\end{eqnarray}\n",
    "กำหนด forward network\n",
    "\\begin{eqnarray}\n",
    "z_0&=&a_0.w_0+b_0\\nonumber\\\\\n",
    "a_1&=&g(z_0)\\nonumber\\\\\n",
    "z_1&=&a_1.w_1+b_1\\nonumber\\\\\n",
    "a_2&=&g(z_1)\\nonumber\\\\\n",
    "\\end{eqnarray}\n",
    "กำหนด backpropagation สำหรับ $w_0$\n",
    "\\begin{eqnarray}\n",
    "    \\Delta w_0 &=& -\\eta \\frac{\\partial E}{\\partial w_0}\\nonumber\\\\\n",
    "    \\frac{\\partial E}{\\partial w_0} &=& \\frac{\\partial E}{\\partial y_p} \\frac{\\partial y_p}{\\partial a_2} \n",
    "\\frac{\\partial a_2}{\\partial z_1} \\frac{\\partial z_1}{\\partial a_1} \\frac{\\partial a_1}{\\partial z_0} \\frac{\\partial z_0}{\\partial w_0} \\nonumber\\\\\n",
    "\\end{eqnarray}\n",
    "จงเขียนอธิบายรายละเอียดในการปรับค่าพารามิเตอร์เพื่อการปรับ $w_0$ เพื่อลดค่า $E$."
   ]
  },
  {
   "cell_type": "markdown",
   "metadata": {},
   "source": [
    "# Autoencoder [10]\n",
    "จงเขียนสรุปอธิบายการทำงานของ autoencoder โดยมีรายละเอียดดังนี้\n",
    "\n",
    "3.1 องค์ประกอบของ autoencoder\n",
    "\n",
    "3.2 การทำงานและการประยุกต์ใช้ autoencoder "
   ]
  },
  {
   "cell_type": "markdown",
   "metadata": {},
   "source": [
    "# Convolutional Neural Network (CNN) [10]\n",
    "จงเขียนสรุปอธิบายการทำงานของ CNN โดยมีรายละเอียดดังนี้\n",
    "\n",
    "4.1 องค์ประกอบของ CNN\n",
    "\n",
    "4.2 การทำงานของ network ต่างๆใน CNN"
   ]
  },
  {
   "cell_type": "markdown",
   "metadata": {},
   "source": [
    "----------จบกระดาษคำถาม----------"
   ]
  }
 ],
 "metadata": {
  "kernelspec": {
   "display_name": "Python 3",
   "language": "python",
   "name": "python3"
  },
  "language_info": {
   "codemirror_mode": {
    "name": "ipython",
    "version": 3
   },
   "file_extension": ".py",
   "mimetype": "text/x-python",
   "name": "python",
   "nbconvert_exporter": "python",
   "pygments_lexer": "ipython3",
   "version": "3.6.6"
  }
 },
 "nbformat": 4,
 "nbformat_minor": 2
}

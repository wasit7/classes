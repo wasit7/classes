{
 "cells": [
  {
   "cell_type": "markdown",
   "metadata": {},
   "source": [
    "# Gradient Descent\n",
    "$\n",
    "\\begin{eqnarray}\n",
    "\\beta_{i+1}&=&\\beta_{i} - \\alpha \\frac{\\partial J(\\beta)}{\\partial \\beta} \\\\\n",
    "\\beta_{t+1} - \\beta_{i}&=& -\\alpha \\frac{\\partial J(\\beta)}{\\partial \\beta} \\\\\n",
    "\\Delta \\beta &=& -\\alpha \\frac{\\partial J(\\beta)}{\\partial \\beta}\n",
    "\\end{eqnarray}\n",
    "$"
   ]
  },
  {
   "cell_type": "code",
   "execution_count": 1,
   "metadata": {},
   "outputs": [],
   "source": [
    "%matplotlib inline\n",
    "import numpy as np\n",
    "import matplotlib.cm as cm\n",
    "from matplotlib import pyplot as plt\n",
    "plt.style.use('ggplot')"
   ]
  },
  {
   "cell_type": "code",
   "execution_count": 2,
   "metadata": {},
   "outputs": [
    {
     "data": {
      "text/plain": [
       "[<matplotlib.lines.Line2D at 0x7f5834028588>]"
      ]
     },
     "execution_count": 2,
     "metadata": {},
     "output_type": "execute_result"
    },
    {
     "data": {
      "image/png": "[encoded data removed]",
      "text/plain": [
       "<Figure size 432x288 with 1 Axes>"
      ]
     },
     "metadata": {},
     "output_type": "display_data"
    }
   ],
   "source": [
    "x0=np.random.randn(20,2)\n",
    "yt0=np.zeros([20,2])\n",
    "yt0=yt0.astype(int)\n",
    "yt0[:,0]=1\n",
    "\n",
    "x1=np.random.randn(20,2)+[2,2]\n",
    "yt1=np.zeros([20,2])\n",
    "yt1=yt1.astype(int)\n",
    "yt1[:,1]=1\n",
    "\n",
    "x=np.concatenate( (x0,x1) , axis=0)\n",
    "yt=np.concatenate( (yt0,yt1) , axis=0)\n",
    "\n",
    "\n",
    "plt.plot(x[:,0][yt[:,0]==0],x[:,1][yt[:,0]==0],'oc')\n",
    "plt.plot(x[:,0][yt[:,0]==1],x[:,1][yt[:,1]==0],'om')"
   ]
  },
  {
   "cell_type": "markdown",
   "metadata": {},
   "source": [
    "# Single Layer Perceptron"
   ]
  },
  {
   "cell_type": "markdown",
   "metadata": {},
   "source": [
    "## Error\n",
    "$\n",
    "\\begin{eqnarray}\n",
    "J&=&\\frac{1}{2} (y_p-y_t)^2\\\\\n",
    "\\end{eqnarray}\n",
    "$"
   ]
  },
  {
   "cell_type": "markdown",
   "metadata": {},
   "source": [
    "## Input and output\n",
    "$\n",
    "\\begin{eqnarray}\n",
    "a_0 &\\Leftarrow &X\\\\\n",
    "y_p& \\Leftarrow &a_1\\\\\n",
    "\\end{eqnarray}\n",
    "$"
   ]
  },
  {
   "cell_type": "markdown",
   "metadata": {},
   "source": [
    "## Forward Network\n",
    "$\n",
    "\\begin{eqnarray}\n",
    "z_0&=&a_0.w_0+b\\\\\n",
    "a_1&=&g(z_0)\\\\\n",
    "\\end{eqnarray}\n",
    "$"
   ]
  },
  {
   "cell_type": "markdown",
   "metadata": {},
   "source": [
    "# Backpropagation on w0\n",
    "$\n",
    "\\begin{eqnarray}\n",
    "\\Delta w_0 &=& -\\alpha \\frac{\\partial J}{\\partial w_0}\\\\\n",
    "\\frac{\\partial J}{\\partial w_0} &=& \\frac{\\partial J}{\\partial y_p} \\frac{\\partial y_p}{\\partial a_1} \\frac{\\partial a_1}{\\partial z_0} \\frac{\\partial z_0}{\\partial w_0} \\\\\n",
    "\\frac{\\partial J}{\\partial y_p} &=& y_p-y_t \\\\\n",
    "\\frac{\\partial y_p}{\\partial a_1} &=& 1 \\\\\n",
    "\\frac{\\partial a_1}{\\partial z_0} &=& \\frac{\\partial g(z_0)}{\\partial z_0} \\\\\n",
    "\\frac{\\partial z_0}{\\partial w_0} &=& a_0 \\\\\n",
    "\\end{eqnarray}\n",
    "$"
   ]
  },
  {
   "cell_type": "markdown",
   "metadata": {},
   "source": [
    "# Backpropagation on b0\n",
    "$\n",
    "\\begin{eqnarray}\n",
    "\\Delta b_0 &=& -\\alpha \\frac{\\partial J}{\\partial b_0}\\\\\n",
    "\\frac{\\partial J}{\\partial w_0} &=& \\frac{\\partial J}{\\partial y_p} \\frac{\\partial y_p}{\\partial a_1} \\frac{\\partial a_1}{\\partial z_0} \\frac{\\partial z_0}{\\partial b_0} \\\\\n",
    "\\frac{\\partial J}{\\partial y_p} &=& y_p-y_t \\\\\n",
    "\\frac{\\partial y_p}{\\partial a_1} &=& 1 \\\\\n",
    "\\frac{\\partial a_1}{\\partial z_0} &=& \\frac{\\partial g(z_0)}{\\partial z_0} \\\\\n",
    "\\frac{\\partial z_0}{\\partial b_0} &=& 1 \\\\\n",
    "\\end{eqnarray}\n",
    "$"
   ]
  },
  {
   "cell_type": "code",
   "execution_count": 3,
   "metadata": {},
   "outputs": [],
   "source": [
    "def g(x):    \n",
    "    return 1/(1+np.exp(-x))\n",
    "def grad_g(gx):\n",
    "        return gx*(1-gx)\n",
    "\n",
    "# def g(x):    \n",
    "#     return np.tanh(x)\n",
    "# def grad_g(g):\n",
    "#         return 1-g*g"
   ]
  },
  {
   "cell_type": "code",
   "execution_count": 4,
   "metadata": {},
   "outputs": [
    {
     "name": "stdout",
     "output_type": "stream",
     "text": [
      "Error: 11.012943269493988\n",
      "Error: 4.93986757897094\n",
      "Error: 4.051140733317216\n",
      "Error: 3.9997414546984875\n",
      "Error: 3.955225169292755\n",
      "Error: 3.9996176839748694\n",
      "Error: 3.997245894211625\n",
      "Error: 3.970927560682544\n",
      "Error: 3.9656824106912643\n",
      "Error: 3.9645873928223487\n"
     ]
    }
   ],
   "source": [
    "#random init weight and bias\n",
    "np.random.seed(1)\n",
    "a0=np.concatenate((x, np.ones([x.shape[0],1])), axis=1)\n",
    "w0 = np.random.random((2,2)) # [3x2] 2 inputs x 2 nodes\n",
    "b0 = np.random.random((1,2)) # [3x2] 1 bias x 2 nodes\n",
    "wb0=np.concatenate((w0, b0), axis=0)\n",
    "for i in range(100):\n",
    "    #forward x=a0, a1=yp\n",
    "    z0=np.dot(a0,wb0)\n",
    "    a1=g(z0) \n",
    "    #backward\n",
    "    d_J_a1= a1-yt\n",
    "    d_a1_z0=d_J_a1*grad_g(a1)\n",
    "    d_z0_wb0 = np.dot(a0.T,d_a1_z0)\n",
    "    \n",
    "    wb0 -= d_z0_wb0\n",
    "    if(i % 10) == 0:   # Only print the error every 10000 steps\n",
    "        E=0.5*np.sum(np.square(d_J_a1))\n",
    "        print(\"Error: {}\".format(E))"
   ]
  },
  {
   "cell_type": "code",
   "execution_count": 5,
   "metadata": {},
   "outputs": [
    {
     "data": {
      "text/plain": [
       "[<matplotlib.lines.Line2D at 0x7f5831e40ac8>]"
      ]
     },
     "execution_count": 5,
     "metadata": {},
     "output_type": "execute_result"
    },
    {
     "data": {
      "image/png": "[encoded data removed]",
      "text/plain": [
       "<Figure size 432x288 with 2 Axes>"
      ]
     },
     "metadata": {},
     "output_type": "display_data"
    }
   ],
   "source": [
    "my,mx=np.mgrid[slice(-3,5,0.2),slice(-3,5,0.2)]\n",
    "out=np.zeros(mx.shape)\n",
    "for i in range(mx.shape[0]):\n",
    "    for j in range(mx.shape[1]):\n",
    "        u=[ mx[i,j], my[i,j],1]\n",
    "        #forward\n",
    "        hot=g(np.dot(u,wb0))\n",
    "        out[i,j]=hot[1]-hot[0]\n",
    "plt.pcolor(mx,my,out,cmap=cm.RdYlBu)\n",
    "plt.colorbar()\n",
    "plt.plot( x[yt[:,1]==1,0], x[yt[:,1]==1,1], 'oc')\n",
    "plt.plot( x[yt[:,0]==1,0], x[yt[:,0]==1,1], 'om')"
   ]
  },
  {
   "cell_type": "code",
   "execution_count": null,
   "metadata": {},
   "outputs": [],
   "source": []
  }
 ],
 "metadata": {
  "kernelspec": {
   "display_name": "Python 3",
   "language": "python",
   "name": "python3"
  },
  "language_info": {
   "codemirror_mode": {
    "name": "ipython",
    "version": 3
   },
   "file_extension": ".py",
   "mimetype": "text/x-python",
   "name": "python",
   "nbconvert_exporter": "python",
   "pygments_lexer": "ipython3",
   "version": "3.6.5"
  }
 },
 "nbformat": 4,
 "nbformat_minor": 2
}
